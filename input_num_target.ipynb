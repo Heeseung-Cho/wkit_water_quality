{
  "nbformat": 4,
  "nbformat_minor": 0,
  "metadata": {
    "colab": {
      "provenance": []
    },
    "kernelspec": {
      "name": "python3",
      "display_name": "Python 3"
    },
    "language_info": {
      "name": "python"
    }
  },
  "cells": [
    {
      "cell_type": "code",
      "source": [
        "from google.colab import drive\n",
        "drive.mount('/content/mydrive/')\n",
        "%cd /content/mydrive/MyDrive/LTSF_Linear"
      ],
      "metadata": {
        "colab": {
          "base_uri": "https://localhost:8080/"
        },
        "id": "t-kJp6mjT1NJ",
        "outputId": "baddd480-c0c7-4e65-d89a-8f573def12e1"
      },
      "execution_count": 1,
      "outputs": [
        {
          "output_type": "stream",
          "name": "stdout",
          "text": [
            "Drive already mounted at /content/mydrive/; to attempt to forcibly remount, call drive.mount(\"/content/mydrive/\", force_remount=True).\n",
            "/content/mydrive/MyDrive/LTSF_Linear\n"
          ]
        }
      ]
    },
    {
      "cell_type": "code",
      "source": [
        "import os\n",
        "from glob import glob\n",
        "import pandas as pd\n",
        "import numpy as np\n",
        "import json"
      ],
      "metadata": {
        "id": "spN1Ks8KUQ9r"
      },
      "execution_count": 2,
      "outputs": []
    },
    {
      "cell_type": "code",
      "source": [
        "root_path = \"dataset/Water_Week\"\n",
        "dir_list = sorted(os.listdir(root_path))\n",
        "dir_list"
      ],
      "metadata": {
        "colab": {
          "base_uri": "https://localhost:8080/"
        },
        "id": "JN-V1XMNUScm",
        "outputId": "1c4dbff3-d921-4188-b3f7-c041747f559a"
      },
      "execution_count": 3,
      "outputs": [
        {
          "output_type": "execute_result",
          "data": {
            "text/plain": [
              "['C001팔당2취',\n",
              " 'D001청주정',\n",
              " 'D002구미',\n",
              " 'D003고령',\n",
              " 'D004주암',\n",
              " 'E003본포',\n",
              " 'E004남강']"
            ]
          },
          "metadata": {},
          "execution_count": 3
        }
      ]
    },
    {
      "cell_type": "markdown",
      "source": [
        "# C,D,E file에 대해서 input series, target col이 어떤 내용들인지"
      ],
      "metadata": {
        "id": "SLcgXAbZUMtG"
      }
    },
    {
      "cell_type": "code",
      "source": [
        "for dir in dir_list:\n",
        "    data_list = sorted(glob(os.path.join(root_path, dir, \"csv/*.csv\")))\n",
        "\n",
        "    df_raw = pd.DataFrame()\n",
        "    for file in data_list:\n",
        "        df_ = pd.read_csv(file)\n",
        "        df_raw = pd.concat([df_raw, df_], axis=0, ignore_index=True)\n",
        "    num_cols = list(df_raw.select_dtypes(include=np.number).columns)\n",
        "\n",
        "    label_list = sorted(glob(os.path.join(root_path, dir, \"hw3_json/*.json\")))\n",
        "\n",
        "    target_vals = []\n",
        "    for js in label_list:\n",
        "        with open(js, 'r') as f:\n",
        "            label = json.load(f)\n",
        "        input_cols = label['h']['input_serial'].split(',')\n",
        "        target_cols = [k for k,v in label['w'].items() if(v is not None) & (k in num_cols)]\n",
        "        vals = [label['w'][k] for k in target_cols]\n",
        "        target_vals.append(vals)\n",
        "    target_vals = np.array(target_vals)\n",
        "\n",
        "    input = df_raw[num_cols]\n",
        "\n",
        "    # drop empty columns\n",
        "    clean_input = input.copy()\n",
        "    clean_input.dropna(axis=1, how=\"all\", inplace=True)\n",
        "\n",
        "    print(f\"{dir} input_cols: {input_cols}\") # json파일 h의 input_serial\n",
        "    print(f\"{dir} num_cols: {num_cols}\") # df_raw의 column 중 np.number 타입의 컬럼들\n",
        "    print(f\"{dir} target_cols: {target_cols}\") # json파일 w값 중 None이 아닌 key들\n",
        "    print() "
      ],
      "metadata": {
        "colab": {
          "base_uri": "https://localhost:8080/"
        },
        "id": "KRGtSCqHUHse",
        "outputId": "4e56bcd8-f686-4db2-a708-9ae70c3c0bba"
      },
      "execution_count": 4,
      "outputs": [
        {
          "output_type": "stream",
          "name": "stdout",
          "text": [
            "C001팔당2취 input_cols: ['turbidity', 'EC', 'pH', 'water_temp', 'TOC', 'algae', 'alkalinity', 'blue_algae', 'residual_Cl', 'blue-green_algae', 'diatomeae', 'cryptophyceae', '2-MIB', 'Geosmin', 'temp', 'precipitation', 'wind_velocity', 'up_turbidity', 'up_EC', 'up_pH', 'up_water_temp', 'up_DO', 'up_TOC', 'up_T-N', 'up_T-P', 'up_water_level', 'up_water_volume', 'up_water_rates', 'up_inflow', 'up_total_discharge', 'up_power_discharge', 'up_intake', 'up_gate_discharge']\n",
            "C001팔당2취 num_cols: ['turbidity', 'EC', 'pH', 'water_temp', 'DO', 'TOC', 'algae', 'alkalinity', 'blue_algae', 'residual_Cl', 'blue-green_algae', 'diatomeae', 'cryptophyceae', '2-MIB', 'Geosmin', 'synedra', 'T-N', 'T-P', 'Mn']\n",
            "C001팔당2취 target_cols: ['2-MIB', 'Geosmin']\n",
            "\n",
            "D001청주정 input_cols: ['turbidity', 'EC', 'pH', 'water_temp', 'alkalinity', 'temp', 'precipitation', 'wind_velocity', 'up_turbidity', 'up_EC', 'up_pH', 'up_water_temp', 'up_DO', 'up_TOC', 'up_T-N', 'up_T-P', 'up_water_level', 'up_water_volume', 'up_water_rates', 'up_inflow', 'up_total_discharge', 'up_power_discharge', 'up_gate_discharge']\n",
            "D001청주정 num_cols: ['turbidity', 'EC', 'pH', 'water_temp', 'DO', 'TOC', 'algae', 'alkalinity', 'blue_algae', 'residual_Cl', 'blue-green_algae', 'diatomeae', 'cryptophyceae', '2-MIB', 'Geosmin', 'synedra', 'T-N', 'T-P', 'Mn']\n",
            "D001청주정 target_cols: ['TOC', 'blue-green_algae', 'diatomeae', '2-MIB', 'Geosmin', 'synedra', 'Mn']\n",
            "\n",
            "D002구미 input_cols: ['turbidity', 'EC', 'pH', 'water_temp', 'alkalinity', 'temp', 'precipitation', 'wind_velocity', 'up_turbidity', 'up_EC', 'up_pH', 'up_water_temp', 'up_DO', 'up_TOC', 'up_T-N', 'up_T-P', 'up_water_level', 'up_water_volume', 'up_water_rates', 'up_inflow', 'up_total_discharge', 'up_power_discharge', 'up_gate_discharge']\n",
            "D002구미 num_cols: ['turbidity', 'EC', 'pH', 'water_temp', 'DO', 'TOC', 'algae', 'alkalinity', 'blue_algae', 'residual_Cl', 'blue-green_algae', 'diatomeae', 'cryptophyceae', '2-MIB', 'Geosmin', 'synedra', 'T-N', 'T-P', 'Mn']\n",
            "D002구미 target_cols: ['blue-green_algae', 'diatomeae', '2-MIB', 'Geosmin']\n",
            "\n",
            "D003고령 input_cols: ['turbidity', 'EC', 'pH', 'water_temp', 'alkalinity', 'T-N', 'temp', 'precipitation', 'wind_velocity', 'up_EC', 'up_pH', 'up_water_temp', 'up_DO', 'up_TOC']\n",
            "D003고령 num_cols: ['turbidity', 'EC', 'pH', 'water_temp', 'DO', 'TOC', 'algae', 'alkalinity', 'blue_algae', 'residual_Cl', 'blue-green_algae', 'diatomeae', 'cryptophyceae', '2-MIB', 'Geosmin', 'synedra', 'T-N', 'T-P', 'Mn']\n",
            "D003고령 target_cols: ['diatomeae', '2-MIB', 'Geosmin']\n",
            "\n",
            "D004주암 input_cols: ['turbidity', 'EC', 'pH', 'water_temp', 'Mn', 'temp', 'precipitation', 'wind_velocity', 'up_turbidity', 'up_EC', 'up_pH', 'up_water_temp', 'up_DO', 'up_TOC', 'up_T-N', 'up_T-P', 'dw_water_level', 'dw_water_volume', 'dw_water_rates']\n",
            "D004주암 num_cols: ['turbidity', 'EC', 'pH', 'water_temp', 'DO', 'TOC', 'algae', 'alkalinity', 'blue_algae', 'residual_Cl', 'blue-green_algae', 'diatomeae', 'cryptophyceae', '2-MIB', 'Geosmin', 'synedra', 'T-N', 'T-P', 'Mn']\n",
            "D004주암 target_cols: ['diatomeae', 'cryptophyceae', '2-MIB', 'Geosmin', 'Mn']\n",
            "\n",
            "E003본포 input_cols: ['EC', 'pH', 'alkalinity', 'temp', 'precipitation', 'wind_velocity', 'up_turbidity', 'up_EC', 'up_pH', 'up_water_temp', 'up_DO', 'up_TOC', 'up_T-N', 'up_T-P']\n",
            "E003본포 num_cols: ['turbidity', 'EC', 'pH', 'water_temp', 'DO', 'TOC', 'algae', 'alkalinity', 'blue_algae', 'residual_Cl', 'blue-green_algae', 'diatomeae', 'cryptophyceae', '2-MIB', 'Geosmin', 'synedra', 'T-N', 'T-P', 'Mn', 'temp', 'precipitation', 'wind_velocity', 'up_turbidity', 'up_EC', 'up_pH', 'up_water_temp', 'up_DO', 'up_TOC', 'up_T-N', 'up_T-P', 'up_water_level', 'up_water_volume', 'up_water_rates', 'up_inflow', 'up_total_discharge', 'up_power_discharge', 'up_intake', 'up_gate_discharge', 'dw_water_level', 'dw_water_volume', 'dw_water_rates', 'dw_inflow', 'dw_total_discharge', 'dw_power_discharge', 'dw_intake', 'dw_gate_discharge', 'p_turbidity', 'p_EC', 'p_DO', 'p_water_temp', 'p_TOC', 'p_T-N', 'p_T-P']\n",
            "E003본포 target_cols: ['blue-green_algae', 'diatomeae', '2-MIB', 'Geosmin', 'temp', 'precipitation', 'wind_velocity', 'up_EC', 'up_pH']\n",
            "\n",
            "E004남강 input_cols: ['turbidity', 'EC', 'pH', 'water_temp', 'DO', 'Mn', 'temp', 'precipitation', 'wind_velocity', 'dw_water_level', 'dw_water_volume', 'dw_water_rates', 'dw_inflow', 'dw_total_discharge', 'dw_power_discharge']\n",
            "E004남강 num_cols: ['turbidity', 'EC', 'pH', 'water_temp', 'DO', 'TOC', 'algae', 'alkalinity', 'blue_algae', 'residual_Cl', 'blue-green_algae', 'diatomeae', 'cryptophyceae', '2-MIB', 'Geosmin', 'synedra', 'T-N', 'T-P', 'Mn', 'temp', 'precipitation', 'wind_velocity', 'up_turbidity', 'up_EC', 'up_pH', 'up_water_temp', 'up_DO', 'up_TOC', 'up_T-N', 'up_T-P', 'up_water_level', 'up_water_volume', 'up_water_rates', 'up_inflow', 'up_total_discharge', 'up_power_discharge', 'up_intake', 'up_gate_discharge', 'dw_water_level', 'dw_water_volume', 'dw_water_rates', 'dw_inflow', 'dw_total_discharge', 'dw_power_discharge', 'dw_intake', 'dw_gate_discharge', 'p_turbidity', 'p_EC', 'p_DO', 'p_water_temp', 'p_TOC', 'p_T-N', 'p_T-P']\n",
            "E004남강 target_cols: ['2-MIB', 'Geosmin', 'temp', 'precipitation', 'wind_velocity', 'up_turbidity', 'up_EC', 'up_pH', 'up_water_temp', 'up_DO', 'up_water_level', 'up_water_volume', 'up_water_rates', 'up_inflow', 'up_total_discharge', 'up_power_discharge']\n",
            "\n"
          ]
        }
      ]
    }
  ]
}