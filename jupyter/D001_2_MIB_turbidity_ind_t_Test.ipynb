{
  "nbformat": 4,
  "nbformat_minor": 0,
  "metadata": {
    "colab": {
      "provenance": []
    },
    "kernelspec": {
      "name": "python3",
      "display_name": "Python 3"
    },
    "language_info": {
      "name": "python"
    }
  },
  "cells": [
    {
      "cell_type": "code",
      "execution_count": null,
      "metadata": {
        "colab": {
          "base_uri": "https://localhost:8080/"
        },
        "id": "ACvzCp7F9A1e",
        "outputId": "67688764-9092-4d62-afce-daeaee0e9356"
      },
      "outputs": [
        {
          "output_type": "stream",
          "name": "stdout",
          "text": [
            "Drive already mounted at /content/mydrive/; to attempt to forcibly remount, call drive.mount(\"/content/mydrive/\", force_remount=True).\n",
            "/content/mydrive/MyDrive/LTSF_Linear\n"
          ]
        },
        {
          "output_type": "execute_result",
          "data": {
            "text/plain": [
              "['C001팔당2취',\n",
              " 'D001청주정',\n",
              " 'D002구미',\n",
              " 'D003고령',\n",
              " 'D004주암',\n",
              " 'E003본포',\n",
              " 'E004남강']"
            ]
          },
          "metadata": {},
          "execution_count": 1
        }
      ],
      "source": [
        "from google.colab import drive\n",
        "drive.mount(\"/content/mydrive/\")\n",
        "%cd /content/mydrive/MyDrive/LTSF_Linear\n",
        "\n",
        "import os\n",
        "import json\n",
        "from glob import glob\n",
        "\n",
        "import numpy as np\n",
        "import pandas as pd\n",
        "\n",
        "from scipy.stats import levene, bartlett\n",
        "from scipy import stats\n",
        "\n",
        "root_path = \"dataset/Water_Week\"\n",
        "dir_list = sorted(os.listdir(root_path))\n",
        "dir_list"
      ]
    },
    {
      "cell_type": "code",
      "source": [
        "def get_ydata(root_path: str, data_path: str, ):\n",
        "    \"\"\"_summary_\n",
        "    Args:\n",
        "        root_path (str): _description_\n",
        "        data_path (str): _description_\n",
        "    Returns:\n",
        "        list, list, pd.DataFrame: _description_\n",
        "    \"\"\"\n",
        "    label_list = sorted(glob(os.path.join(root_path, data_path, \"hw3_json/*.json\")))\n",
        "    target_cols = ['turbidity', 'EC', 'pH', 'water_temp',\n",
        "        'DO', 'TOC', 'algae', 'alkalinity', 'blue_algae', 'residual_Cl',\n",
        "        'blue-green_algae', 'diatomeae', 'cryptophyceae', '2-MIB', 'Geosmin',\n",
        "        'synedra', 'T-N', 'T-P', 'Mn',]\n",
        "    target_vals = []\n",
        "    for js in label_list:\n",
        "        with open(js, 'r') as f:\n",
        "            label = json.load(f)\n",
        "        input_cols = label['h']['input_serial'].split(',')   \n",
        "        target_cols = [k for k,v in label['w'].items() if (v is not None) & (k in target_cols)]\n",
        "        vals = [label['w'][k] for k in target_cols]\n",
        "        vals = [v.replace(',','') if str(v).__contains__(',') else v for v in vals ]\n",
        "        target_vals.append(vals)\n",
        "    target_vals = np.array(target_vals)    \n",
        "    return input_cols, target_cols, pd.DataFrame(target_vals, columns = target_cols, dtype=float)"
      ],
      "metadata": {
        "id": "346WoT5L9LeV"
      },
      "execution_count": null,
      "outputs": []
    },
    {
      "cell_type": "markdown",
      "source": [
        "### 2-MIB 기준 turbidity A"
      ],
      "metadata": {
        "id": "BGwQGKEABC9V"
      }
    },
    {
      "cell_type": "code",
      "source": [
        "print(dir_list[1])\n",
        "input_cols, target_cols, df_target = get_ydata(root_path, dir_list[1])\n",
        "mean_target = df_target[\"2-MIB\"].mean()\n",
        "index_list = list(df_target[df_target[\"2-MIB\"] > mean_target].index)\n",
        "\n",
        "data_list = sorted(glob(os.path.join(root_path, dir_list[1], \"csv/*.csv\")))\n",
        "cnt = 0\n",
        "path_list = []\n",
        "for file in data_list:\n",
        "    if cnt in index_list:\n",
        "        path_list.append(file)\n",
        "    cnt += 1\n",
        "#path_list\n",
        "\n",
        "df_raw = pd.DataFrame()\n",
        "for file in path_list:\n",
        "    df_ = pd.read_csv(file)\n",
        "    df_raw = pd.concat([df_raw, df_], axis = 0, ignore_index= True)\n",
        "#df_raw\n",
        "\n",
        "\n",
        "x_data = df_raw[df_raw.columns.intersection(input_cols)]\n",
        "turbidityA = x_data[\"turbidity\"].values # gropA\n",
        "#x_data.describe().loc[\"mean\", :] # gropA의 컬럼별 평균\n",
        "turbidityA\n"
      ],
      "metadata": {
        "colab": {
          "base_uri": "https://localhost:8080/"
        },
        "id": "vSf2Q8mp9Xb1",
        "outputId": "b4936c69-357d-40d2-8a6d-009d70b9c9e6"
      },
      "execution_count": null,
      "outputs": [
        {
          "output_type": "stream",
          "name": "stdout",
          "text": [
            "D001청주정\n"
          ]
        },
        {
          "output_type": "execute_result",
          "data": {
            "text/plain": [
              "array([1.4734, 1.4464, 1.3995, ..., 3.7339, 3.7828, 3.9   ])"
            ]
          },
          "metadata": {},
          "execution_count": 3
        }
      ]
    },
    {
      "cell_type": "markdown",
      "source": [
        "### 2-MIB 기준 turbidity B"
      ],
      "metadata": {
        "id": "RX9zDgbRBLP7"
      }
    },
    {
      "cell_type": "code",
      "source": [
        "print(dir_list[1])\n",
        "input_cols, target_cols, df_target = get_ydata(root_path, dir_list[1])\n",
        "mean_target = df_target[\"2-MIB\"].mean()\n",
        "index_list = list(df_target[df_target[\"2-MIB\"] <= mean_target].index)\n",
        "\n",
        "data_list = sorted(glob(os.path.join(root_path, dir_list[1], \"csv/*.csv\")))\n",
        "cnt = 0\n",
        "path_list = []\n",
        "for file in data_list:\n",
        "    if cnt in index_list:\n",
        "        path_list.append(file)\n",
        "    cnt += 1\n",
        "#path_list\n",
        "\n",
        "df_raw = pd.DataFrame()\n",
        "for file in path_list:\n",
        "    df_ = pd.read_csv(file)\n",
        "    df_raw = pd.concat([df_raw, df_], axis = 0, ignore_index= True)\n",
        "#df_raw\n",
        "\n",
        "\n",
        "x_data = df_raw[df_raw.columns.intersection(input_cols)]\n",
        "turbidityB = x_data[\"turbidity\"].values # gropA\n",
        "#x_data.describe().loc[\"mean\", :] # gropA의 컬럼별 평균\n",
        "turbidityB\n"
      ],
      "metadata": {
        "colab": {
          "base_uri": "https://localhost:8080/"
        },
        "id": "vs1Um1SzAtE0",
        "outputId": "deff67ab-9302-41e7-94d7-6f9316a41268"
      },
      "execution_count": null,
      "outputs": [
        {
          "output_type": "stream",
          "name": "stdout",
          "text": [
            "D001청주정\n"
          ]
        },
        {
          "output_type": "execute_result",
          "data": {
            "text/plain": [
              "array([1.6656, 1.637 , 1.6422, ..., 3.0677, 3.0245, 2.6308])"
            ]
          },
          "metadata": {},
          "execution_count": 4
        }
      ]
    },
    {
      "cell_type": "code",
      "source": [
        "# 귀무가설: turbidityA와 turbidityB 두 집단에 따른 turbidity는 차이가 없다.\n",
        "# 대립가설: turbidityA와 turbidityB 두 집단에 따른 turbidity는 차이가 있다."
      ],
      "metadata": {
        "id": "589ycNnTAtKD"
      },
      "execution_count": null,
      "outputs": []
    },
    {
      "cell_type": "code",
      "source": [
        "# 두 집단의 평균 차이\n",
        "np.mean(turbidityA), np.mean(turbidityB)"
      ],
      "metadata": {
        "colab": {
          "base_uri": "https://localhost:8080/"
        },
        "id": "JwTdLrrSAtFd",
        "outputId": "4c7ae7ea-4631-49ea-f3a0-86143e58141b"
      },
      "execution_count": null,
      "outputs": [
        {
          "output_type": "execute_result",
          "data": {
            "text/plain": [
              "(6.486008177083333, 3.8944526746532895)"
            ]
          },
          "metadata": {},
          "execution_count": 6
        }
      ]
    },
    {
      "cell_type": "code",
      "source": [
        "# 등분산성 검정: 방법1\n",
        "levene(turbidityA, turbidityB)"
      ],
      "metadata": {
        "colab": {
          "base_uri": "https://localhost:8080/"
        },
        "id": "Fmq5ABl4AtMj",
        "outputId": "55fb6a3e-63be-4a0e-8e65-c73558f367d6"
      },
      "execution_count": null,
      "outputs": [
        {
          "output_type": "execute_result",
          "data": {
            "text/plain": [
              "LeveneResult(statistic=762.9094220175293, pvalue=7.305935552886479e-163)"
            ]
          },
          "metadata": {},
          "execution_count": 7
        }
      ]
    },
    {
      "cell_type": "code",
      "source": [
        "# 등분산성 검정: 방법2\n",
        "bartlett(turbidityA, turbidityB)"
      ],
      "metadata": {
        "colab": {
          "base_uri": "https://localhost:8080/"
        },
        "id": "rCg-EPKOC33H",
        "outputId": "17020eac-c04b-4ea6-a33f-fc4cd8243bf0"
      },
      "execution_count": null,
      "outputs": [
        {
          "output_type": "execute_result",
          "data": {
            "text/plain": [
              "BartlettResult(statistic=2059.7461032840424, pvalue=0.0)"
            ]
          },
          "metadata": {},
          "execution_count": 8
        }
      ]
    },
    {
      "cell_type": "code",
      "source": [
        "# 등분산성 검정: 두 방법의 p-value가 유의수준 0.05 보다 더 작다. \n",
        "#                따라서 두 집단의 데이터는 등분산성을 만족한다고 볼 수 없다."
      ],
      "metadata": {
        "id": "7xON-Ht7C35b"
      },
      "execution_count": null,
      "outputs": []
    },
    {
      "cell_type": "code",
      "source": [
        "# 독립표본 t-검정 시행: 등분산성을 만족하지 않으므로, equal_var=False로 설정.\n",
        "stats.ttest_ind(turbidityA, turbidityB, equal_var=False)"
      ],
      "metadata": {
        "colab": {
          "base_uri": "https://localhost:8080/"
        },
        "id": "TcBQbFfhC37S",
        "outputId": "1c701c07-2c7f-4689-bb87-2359b1ec2c41"
      },
      "execution_count": null,
      "outputs": [
        {
          "output_type": "execute_result",
          "data": {
            "text/plain": [
              "Ttest_indResult(statistic=24.380778344213198, pvalue=3.7008652086106905e-121)"
            ]
          },
          "metadata": {},
          "execution_count": 10
        }
      ]
    },
    {
      "cell_type": "markdown",
      "source": [
        "- **잠정적 결론1** : p<0.05 이므로 두 집단의 평균 차이는 통계적으로 유의미하다.\n",
        "- **잠정적 결론2** : p<0.05 이므로 귀무가설을 기각한다.따라서 turbidityA와 turbidityB 두 집단에 따른 turbidity는 통계적으로 유의한 차이가 존재한다.\n"
      ],
      "metadata": {
        "id": "eM6oXMitE3T8"
      }
    },
    {
      "cell_type": "code",
      "source": [
        "\"\"\"\n",
        "for col in x_data.columns:\n",
        "    print(f\"{col} : {x_data.loc[:, col].values}\")\n",
        "\"\"\""
      ],
      "metadata": {
        "colab": {
          "base_uri": "https://localhost:8080/",
          "height": 36
        },
        "id": "FrUeiRTb9l4V",
        "outputId": "00ba77dc-3ab5-4242-9d8c-fc086b88f9d1"
      },
      "execution_count": null,
      "outputs": [
        {
          "output_type": "execute_result",
          "data": {
            "text/plain": [
              "'\\nfor col in x_data.columns:\\n    print(f\"{col} : {x_data.loc[:, col].values}\")\\n'"
            ],
            "application/vnd.google.colaboratory.intrinsic+json": {
              "type": "string"
            }
          },
          "metadata": {},
          "execution_count": 11
        }
      ]
    }
  ]
}