{
  "nbformat": 4,
  "nbformat_minor": 0,
  "metadata": {
    "colab": {
      "provenance": []
    },
    "kernelspec": {
      "name": "python3",
      "display_name": "Python 3"
    },
    "language_info": {
      "name": "python"
    }
  },
  "cells": [
    {
      "cell_type": "code",
      "execution_count": 1,
      "metadata": {
        "colab": {
          "base_uri": "https://localhost:8080/"
        },
        "id": "SmP7SfJikzZF",
        "outputId": "09ff849d-e705-4778-e6da-fd9572455ebf"
      },
      "outputs": [
        {
          "output_type": "stream",
          "name": "stdout",
          "text": [
            "Drive already mounted at /content/mydrive/; to attempt to forcibly remount, call drive.mount(\"/content/mydrive/\", force_remount=True).\n",
            "/content/mydrive/MyDrive/LTSF_Linear\n"
          ]
        },
        {
          "output_type": "execute_result",
          "data": {
            "text/plain": [
              "['C001팔당2취',\n",
              " 'D001청주정',\n",
              " 'D002구미',\n",
              " 'D003고령',\n",
              " 'D004주암',\n",
              " 'E003본포',\n",
              " 'E004남강']"
            ]
          },
          "metadata": {},
          "execution_count": 1
        }
      ],
      "source": [
        "from google.colab import drive\n",
        "drive.mount(\"/content/mydrive/\")\n",
        "%cd /content/mydrive/MyDrive/LTSF_Linear\n",
        "\n",
        "import os\n",
        "import json\n",
        "from glob import glob\n",
        "\n",
        "import numpy as np\n",
        "import pandas as pd\n",
        "\n",
        "import matplotlib.pyplot as plt\n",
        "import seaborn as sns\n",
        "\n",
        "from scipy.stats import levene, bartlett\n",
        "from scipy import stats\n",
        "\n",
        "from _data_provider.data_loader import get_ydata\n",
        "\n",
        "\n",
        "root_path = \"dataset/Water_Week\"\n",
        "dir_list = sorted(os.listdir(root_path))\n",
        "dir_list"
      ]
    },
    {
      "cell_type": "code",
      "source": [
        "# returns: 각 주차의 평균 feature 값을 담은 리스트\n",
        "def median_split(dir:str, target:str, feature:str):\n",
        "    \"\"\"_summary_\n",
        "    Args:\n",
        "        dir (str): _description_\n",
        "        target (str): _description_\n",
        "        feature (str): _description_\n",
        "    Returns:\n",
        "        list, list\n",
        "    \"\"\"\n",
        "    in_cols, target_cols, df_target = get_ydata(root_path, dir)\n",
        "    median_target = df_target[target].median()\n",
        "    index_listG = list(df_target[df_target[target] > median_target].index) \n",
        "    index_listL = list(df_target[df_target[target] <= median_target].index) \n",
        "\n",
        "    data_list = sorted(glob(os.path.join(root_path, dir, \"csv/*.csv\")))\n",
        "    cnt = 0\n",
        "    path_listG = []\n",
        "    path_listL = []\n",
        "    for file in data_list:\n",
        "        if cnt in index_listG:\n",
        "            path_listG.append(file)\n",
        "        elif cnt in index_listL:\n",
        "            path_listL.append(file)\n",
        "        cnt += 1\n",
        "    \n",
        "    weekly_meanG = []\n",
        "    for file in path_listG:\n",
        "        df_ = pd.read_csv(file)\n",
        "        input_columns = df_.columns.intersection(in_cols)\n",
        "        x_data = df_[input_columns]\n",
        "        mean = x_data[feature].mean()\n",
        "        weekly_meanG.append(mean)\n",
        "\n",
        "    weekly_meanL = []\n",
        "    for file in path_listL:\n",
        "        df_ = pd.read_csv(file)\n",
        "        input_columns = df_.columns.intersection(in_cols)\n",
        "        x_data = df_[input_columns]\n",
        "        mean = x_data[feature].mean()\n",
        "        weekly_meanL.append(mean)\n",
        "\n",
        "\n",
        "    return weekly_meanG, weekly_meanL"
      ],
      "metadata": {
        "id": "BO72wr6Sk5It"
      },
      "execution_count": 2,
      "outputs": []
    },
    {
      "cell_type": "code",
      "source": [
        "G, L = median_split(dir_list[1], \"2-MIB\", \"turbidity\")\n",
        "len(G), len(L)"
      ],
      "metadata": {
        "colab": {
          "base_uri": "https://localhost:8080/"
        },
        "id": "gCuYwQFboDa6",
        "outputId": "93e1f0c8-d4ab-42c0-f920-d52c6b538f4a"
      },
      "execution_count": 3,
      "outputs": [
        {
          "output_type": "execute_result",
          "data": {
            "text/plain": [
              "(24, 76)"
            ]
          },
          "metadata": {},
          "execution_count": 3
        }
      ]
    },
    {
      "cell_type": "code",
      "source": [
        "def ind_t_test(dir:str, target:str, feature:str):\n",
        "    \"\"\"_summary_\n",
        "    Args:\n",
        "        dir (str): _description_\n",
        "        target (str): _description_\n",
        "        feature (str): _description_\n",
        "    Returns:\n",
        "        str\n",
        "    \"\"\"\n",
        "    G, L = median_split(dir, target, feature)\n",
        "\n",
        "    pval1 = levene(G, L)\n",
        "    pval2 = bartlett(G, L)\n",
        "    p = 0.05\n",
        "\n",
        "    equal_var=False\n",
        "    if pval1.pvalue > p and pval2.pvalue > p:\n",
        "        equal_var=True\n",
        "\n",
        "    result = stats.ttest_ind(G, L, equal_var=equal_var)\n",
        "    output = ''\n",
        "    if result.pvalue < p:\n",
        "        output = f\"{dir}  {target}  {feature}:  {result}\"\n",
        "\n",
        "    \n",
        "    return output"
      ],
      "metadata": {
        "id": "PLZLuWlOrqZQ"
      },
      "execution_count": 4,
      "outputs": []
    },
    {
      "cell_type": "code",
      "source": [
        "for dir in dir_list:\n",
        "    in_cols, target_cols, df_target = get_ydata(root_path, dir)\n",
        "    for target in df_target.columns:\n",
        "        print(ind_t_test(dir, target, \"turbidity\"))"
      ],
      "metadata": {
        "colab": {
          "base_uri": "https://localhost:8080/",
          "height": 694
        },
        "id": "hIs_nzz1yZap",
        "outputId": "c2671652-9bf7-4b4b-9d5a-caf7d81bc45f"
      },
      "execution_count": 6,
      "outputs": [
        {
          "output_type": "stream",
          "name": "stdout",
          "text": [
            "\n",
            "\n",
            "D001청주정  TOC  turbidity:  Ttest_indResult(statistic=4.051653029156705, pvalue=0.00015542274978364834)\n",
            "D001청주정  blue-green_algae  turbidity:  Ttest_indResult(statistic=3.398666863361974, pvalue=0.0011415605506067082)\n",
            "\n",
            "D001청주정  2-MIB  turbidity:  Ttest_indResult(statistic=2.359979340338743, pvalue=0.025798143648121864)\n",
            "D001청주정  Geosmin  turbidity:  Ttest_indResult(statistic=-4.541892593480467, pvalue=1.976602273457534e-05)\n",
            "\n",
            "D001청주정  Mn  turbidity:  Ttest_indResult(statistic=2.7402192620065615, pvalue=0.00799327131967927)\n",
            "\n",
            "\n",
            "D002구미  2-MIB  turbidity:  Ttest_indResult(statistic=2.0128026121591307, pvalue=0.046936155568128454)\n",
            "\n",
            "D003고령  diatomeae  turbidity:  Ttest_indResult(statistic=-4.089057729036955, pvalue=0.00014554107918547394)\n",
            "D003고령  2-MIB  turbidity:  Ttest_indResult(statistic=3.1058465926809755, pvalue=0.0028471282421283243)\n",
            "\n"
          ]
        },
        {
          "output_type": "error",
          "ename": "ValueError",
          "evalue": "ignored",
          "traceback": [
            "\u001b[0;31m---------------------------------------------------------------------------\u001b[0m",
            "\u001b[0;31mValueError\u001b[0m                                Traceback (most recent call last)",
            "\u001b[0;32m<ipython-input-6-b7d4eff70069>\u001b[0m in \u001b[0;36m<module>\u001b[0;34m\u001b[0m\n\u001b[1;32m      1\u001b[0m \u001b[0;32mfor\u001b[0m \u001b[0mdir\u001b[0m \u001b[0;32min\u001b[0m \u001b[0mdir_list\u001b[0m\u001b[0;34m:\u001b[0m\u001b[0;34m\u001b[0m\u001b[0;34m\u001b[0m\u001b[0m\n\u001b[0;32m----> 2\u001b[0;31m     \u001b[0min_cols\u001b[0m\u001b[0;34m,\u001b[0m \u001b[0mtarget_cols\u001b[0m\u001b[0;34m,\u001b[0m \u001b[0mdf_target\u001b[0m \u001b[0;34m=\u001b[0m \u001b[0mget_ydata\u001b[0m\u001b[0;34m(\u001b[0m\u001b[0mroot_path\u001b[0m\u001b[0;34m,\u001b[0m \u001b[0mdir\u001b[0m\u001b[0;34m)\u001b[0m\u001b[0;34m\u001b[0m\u001b[0;34m\u001b[0m\u001b[0m\n\u001b[0m\u001b[1;32m      3\u001b[0m     \u001b[0;32mfor\u001b[0m \u001b[0mtarget\u001b[0m \u001b[0;32min\u001b[0m \u001b[0mdf_target\u001b[0m\u001b[0;34m.\u001b[0m\u001b[0mcolumns\u001b[0m\u001b[0;34m:\u001b[0m\u001b[0;34m\u001b[0m\u001b[0;34m\u001b[0m\u001b[0m\n\u001b[1;32m      4\u001b[0m         \u001b[0mprint\u001b[0m\u001b[0;34m(\u001b[0m\u001b[0mind_t_test\u001b[0m\u001b[0;34m(\u001b[0m\u001b[0mdir\u001b[0m\u001b[0;34m,\u001b[0m \u001b[0mtarget\u001b[0m\u001b[0;34m,\u001b[0m \u001b[0;34m\"turbidity\"\u001b[0m\u001b[0;34m)\u001b[0m\u001b[0;34m)\u001b[0m\u001b[0;34m\u001b[0m\u001b[0;34m\u001b[0m\u001b[0m\n",
            "\u001b[0;32m/content/mydrive/MyDrive/LTSF_Linear/_data_provider/data_loader.py\u001b[0m in \u001b[0;36mget_ydata\u001b[0;34m(root_path, data_path)\u001b[0m\n\u001b[1;32m     55\u001b[0m         \u001b[0mtarget_vals\u001b[0m\u001b[0;34m.\u001b[0m\u001b[0mappend\u001b[0m\u001b[0;34m(\u001b[0m\u001b[0mvals\u001b[0m\u001b[0;34m)\u001b[0m\u001b[0;34m\u001b[0m\u001b[0;34m\u001b[0m\u001b[0m\n\u001b[1;32m     56\u001b[0m     \u001b[0mtarget_vals\u001b[0m \u001b[0;34m=\u001b[0m \u001b[0mnp\u001b[0m\u001b[0;34m.\u001b[0m\u001b[0marray\u001b[0m\u001b[0;34m(\u001b[0m\u001b[0mtarget_vals\u001b[0m\u001b[0;34m)\u001b[0m\u001b[0;34m\u001b[0m\u001b[0;34m\u001b[0m\u001b[0m\n\u001b[0;32m---> 57\u001b[0;31m     \u001b[0;32mreturn\u001b[0m \u001b[0minput_cols\u001b[0m\u001b[0;34m,\u001b[0m \u001b[0mtarget_cols\u001b[0m\u001b[0;34m,\u001b[0m \u001b[0mpd\u001b[0m\u001b[0;34m.\u001b[0m\u001b[0mDataFrame\u001b[0m\u001b[0;34m(\u001b[0m\u001b[0mtarget_vals\u001b[0m\u001b[0;34m,\u001b[0m \u001b[0mcolumns\u001b[0m \u001b[0;34m=\u001b[0m \u001b[0mtarget_cols\u001b[0m\u001b[0;34m,\u001b[0m \u001b[0mdtype\u001b[0m\u001b[0;34m=\u001b[0m\u001b[0mfloat\u001b[0m\u001b[0;34m)\u001b[0m\u001b[0;34m\u001b[0m\u001b[0;34m\u001b[0m\u001b[0m\n\u001b[0m\u001b[1;32m     58\u001b[0m \u001b[0;34m\u001b[0m\u001b[0m\n\u001b[1;32m     59\u001b[0m \u001b[0;32mclass\u001b[0m \u001b[0mWater_Dataset\u001b[0m\u001b[0;34m(\u001b[0m\u001b[0mDataset\u001b[0m\u001b[0;34m)\u001b[0m\u001b[0;34m:\u001b[0m\u001b[0;34m\u001b[0m\u001b[0;34m\u001b[0m\u001b[0m\n",
            "\u001b[0;32m/usr/local/lib/python3.8/dist-packages/pandas/core/frame.py\u001b[0m in \u001b[0;36m__init__\u001b[0;34m(self, data, index, columns, dtype, copy)\u001b[0m\n\u001b[1;32m    670\u001b[0m                 )\n\u001b[1;32m    671\u001b[0m             \u001b[0;32melse\u001b[0m\u001b[0;34m:\u001b[0m\u001b[0;34m\u001b[0m\u001b[0;34m\u001b[0m\u001b[0m\n\u001b[0;32m--> 672\u001b[0;31m                 mgr = ndarray_to_mgr(\n\u001b[0m\u001b[1;32m    673\u001b[0m                     \u001b[0mdata\u001b[0m\u001b[0;34m,\u001b[0m\u001b[0;34m\u001b[0m\u001b[0;34m\u001b[0m\u001b[0m\n\u001b[1;32m    674\u001b[0m                     \u001b[0mindex\u001b[0m\u001b[0;34m,\u001b[0m\u001b[0;34m\u001b[0m\u001b[0;34m\u001b[0m\u001b[0m\n",
            "\u001b[0;32m/usr/local/lib/python3.8/dist-packages/pandas/core/internals/construction.py\u001b[0m in \u001b[0;36mndarray_to_mgr\u001b[0;34m(values, index, columns, dtype, copy, typ)\u001b[0m\n\u001b[1;32m    311\u001b[0m         \u001b[0mrcf\u001b[0m \u001b[0;34m=\u001b[0m \u001b[0;32mnot\u001b[0m \u001b[0;34m(\u001b[0m\u001b[0mis_integer_dtype\u001b[0m\u001b[0;34m(\u001b[0m\u001b[0mdtype\u001b[0m\u001b[0;34m)\u001b[0m \u001b[0;32mand\u001b[0m \u001b[0mvalues\u001b[0m\u001b[0;34m.\u001b[0m\u001b[0mdtype\u001b[0m\u001b[0;34m.\u001b[0m\u001b[0mkind\u001b[0m \u001b[0;34m==\u001b[0m \u001b[0;34m\"f\"\u001b[0m\u001b[0;34m)\u001b[0m\u001b[0;34m\u001b[0m\u001b[0;34m\u001b[0m\u001b[0m\n\u001b[1;32m    312\u001b[0m \u001b[0;34m\u001b[0m\u001b[0m\n\u001b[0;32m--> 313\u001b[0;31m         values = sanitize_array(\n\u001b[0m\u001b[1;32m    314\u001b[0m             \u001b[0mflat\u001b[0m\u001b[0;34m,\u001b[0m \u001b[0;32mNone\u001b[0m\u001b[0;34m,\u001b[0m \u001b[0mdtype\u001b[0m\u001b[0;34m=\u001b[0m\u001b[0mdtype\u001b[0m\u001b[0;34m,\u001b[0m \u001b[0mcopy\u001b[0m\u001b[0;34m=\u001b[0m\u001b[0mcopy\u001b[0m\u001b[0;34m,\u001b[0m \u001b[0mraise_cast_failure\u001b[0m\u001b[0;34m=\u001b[0m\u001b[0mrcf\u001b[0m\u001b[0;34m\u001b[0m\u001b[0;34m\u001b[0m\u001b[0m\n\u001b[1;32m    315\u001b[0m         )\n",
            "\u001b[0;32m/usr/local/lib/python3.8/dist-packages/pandas/core/construction.py\u001b[0m in \u001b[0;36msanitize_array\u001b[0;34m(data, index, dtype, copy, raise_cast_failure, allow_2d)\u001b[0m\n\u001b[1;32m    543\u001b[0m         \u001b[0;32melse\u001b[0m\u001b[0;34m:\u001b[0m\u001b[0;34m\u001b[0m\u001b[0;34m\u001b[0m\u001b[0m\n\u001b[1;32m    544\u001b[0m             \u001b[0;31m# we will try to copy by-definition here\u001b[0m\u001b[0;34m\u001b[0m\u001b[0;34m\u001b[0m\u001b[0;34m\u001b[0m\u001b[0m\n\u001b[0;32m--> 545\u001b[0;31m             \u001b[0msubarr\u001b[0m \u001b[0;34m=\u001b[0m \u001b[0m_try_cast\u001b[0m\u001b[0;34m(\u001b[0m\u001b[0mdata\u001b[0m\u001b[0;34m,\u001b[0m \u001b[0mdtype\u001b[0m\u001b[0;34m,\u001b[0m \u001b[0mcopy\u001b[0m\u001b[0;34m,\u001b[0m \u001b[0mraise_cast_failure\u001b[0m\u001b[0;34m)\u001b[0m\u001b[0;34m\u001b[0m\u001b[0;34m\u001b[0m\u001b[0m\n\u001b[0m\u001b[1;32m    546\u001b[0m \u001b[0;34m\u001b[0m\u001b[0m\n\u001b[1;32m    547\u001b[0m     \u001b[0;32melif\u001b[0m \u001b[0misinstance\u001b[0m\u001b[0;34m(\u001b[0m\u001b[0mdata\u001b[0m\u001b[0;34m,\u001b[0m \u001b[0mABCExtensionArray\u001b[0m\u001b[0;34m)\u001b[0m\u001b[0;34m:\u001b[0m\u001b[0;34m\u001b[0m\u001b[0;34m\u001b[0m\u001b[0m\n",
            "\u001b[0;32m/usr/local/lib/python3.8/dist-packages/pandas/core/construction.py\u001b[0m in \u001b[0;36m_try_cast\u001b[0;34m(arr, dtype, copy, raise_cast_failure)\u001b[0m\n\u001b[1;32m    757\u001b[0m             \u001b[0;31m#  test_constructor_compound_dtypes, test_constructor_cast_failure\u001b[0m\u001b[0;34m\u001b[0m\u001b[0;34m\u001b[0m\u001b[0;34m\u001b[0m\u001b[0m\n\u001b[1;32m    758\u001b[0m             \u001b[0;31m#  test_constructor_dict_cast2, test_loc_setitem_dtype\u001b[0m\u001b[0;34m\u001b[0m\u001b[0;34m\u001b[0m\u001b[0;34m\u001b[0m\u001b[0m\n\u001b[0;32m--> 759\u001b[0;31m             \u001b[0msubarr\u001b[0m \u001b[0;34m=\u001b[0m \u001b[0mnp\u001b[0m\u001b[0;34m.\u001b[0m\u001b[0marray\u001b[0m\u001b[0;34m(\u001b[0m\u001b[0marr\u001b[0m\u001b[0;34m,\u001b[0m \u001b[0mdtype\u001b[0m\u001b[0;34m=\u001b[0m\u001b[0mdtype\u001b[0m\u001b[0;34m,\u001b[0m \u001b[0mcopy\u001b[0m\u001b[0;34m=\u001b[0m\u001b[0mcopy\u001b[0m\u001b[0;34m)\u001b[0m\u001b[0;34m\u001b[0m\u001b[0;34m\u001b[0m\u001b[0m\n\u001b[0m\u001b[1;32m    760\u001b[0m \u001b[0;34m\u001b[0m\u001b[0m\n\u001b[1;32m    761\u001b[0m     \u001b[0;32mexcept\u001b[0m \u001b[0;34m(\u001b[0m\u001b[0mValueError\u001b[0m\u001b[0;34m,\u001b[0m \u001b[0mTypeError\u001b[0m\u001b[0;34m)\u001b[0m\u001b[0;34m:\u001b[0m\u001b[0;34m\u001b[0m\u001b[0;34m\u001b[0m\u001b[0m\n",
            "\u001b[0;31mValueError\u001b[0m: could not convert string to float: ' NA '"
          ]
        }
      ]
    }
  ]
}