{
  "nbformat": 4,
  "nbformat_minor": 0,
  "metadata": {
    "colab": {
      "provenance": []
    },
    "kernelspec": {
      "name": "python3",
      "display_name": "Python 3"
    },
    "language_info": {
      "name": "python"
    }
  },
  "cells": [
    {
      "cell_type": "markdown",
      "source": [
        "![conda-install.PNG](data:image/png;base64,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)"
      ],
      "metadata": {
        "id": "ygp1D9J9l-IU"
      }
    },
    {
      "cell_type": "markdown",
      "source": [
        "[How to install / use Conda on Google Colab](https://inside-machinelearning.com/en/how-to-install-use-conda-on-google-colab/)"
      ],
      "metadata": {
        "id": "YyeF7wdTX8Dw"
      }
    },
    {
      "cell_type": "code",
      "source": [
        "# check whether conda is installed\n",
        "!conda --version"
      ],
      "metadata": {
        "colab": {
          "base_uri": "https://localhost:8080/"
        },
        "id": "6fxrG_JJV1nJ",
        "outputId": "82f50f9d-4b8f-4b61-ab94-6bc5ddf9b928"
      },
      "execution_count": null,
      "outputs": [
        {
          "output_type": "stream",
          "name": "stdout",
          "text": [
            "conda 22.9.0\n"
          ]
        }
      ]
    },
    {
      "cell_type": "markdown",
      "source": [
        "- conda 22.9.0 : installed\n",
        "- /bin/bash: conda: command not found : not installed"
      ],
      "metadata": {
        "id": "7MXSyTTcZHRU"
      }
    },
    {
      "cell_type": "code",
      "source": [
        "# install conda\n",
        "!pip install -q condacolab\n",
        "import condacolab\n",
        "condacolab.install()"
      ],
      "metadata": {
        "colab": {
          "base_uri": "https://localhost:8080/"
        },
        "id": "KzLKzSMSWP4j",
        "outputId": "cacca154-5eb0-41f2-ad1c-ad0b18084e76"
      },
      "execution_count": null,
      "outputs": [
        {
          "output_type": "stream",
          "name": "stdout",
          "text": [
            "\u001b[33mWARNING: Running pip as the 'root' user can result in broken permissions and conflicting behaviour with the system package manager. It is recommended to use a virtual environment instead: https://pip.pypa.io/warnings/venv\u001b[0m\u001b[33m\n",
            "\u001b[0m"
          ]
        }
      ]
    },
    {
      "cell_type": "code",
      "source": [
        "!conda --version"
      ],
      "metadata": {
        "id": "i-_mFgdpWuyV"
      },
      "execution_count": null,
      "outputs": []
    },
    {
      "cell_type": "code",
      "source": [
        "# location of the conda folder\n",
        "!which conda"
      ],
      "metadata": {
        "colab": {
          "base_uri": "https://localhost:8080/"
        },
        "id": "m7Pj2o52W_qa",
        "outputId": "81930dba-f016-4487-8ae0-4ef0ea9e8439"
      },
      "execution_count": null,
      "outputs": [
        {
          "output_type": "stream",
          "name": "stdout",
          "text": [
            "/usr/local/bin/conda\n"
          ]
        }
      ]
    }
  ]
}