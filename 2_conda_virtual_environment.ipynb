{
  "nbformat": 4,
  "nbformat_minor": 0,
  "metadata": {
    "colab": {
      "provenance": []
    },
    "kernelspec": {
      "name": "python3",
      "display_name": "Python 3"
    },
    "language_info": {
      "name": "python"
    }
  },
  "cells": [
    {
      "cell_type": "markdown",
      "source": [
        "![conda-virtual.PNG](data:image/png;base64,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)"
      ],
      "metadata": {
        "id": "uoHQ4-NjlkVj"
      }
    },
    {
      "cell_type": "markdown",
      "source": [
        "## 1. Install conda on Colab"
      ],
      "metadata": {
        "id": "nPjhmaM5dPO6"
      }
    },
    {
      "cell_type": "code",
      "execution_count": 1,
      "metadata": {
        "colab": {
          "base_uri": "https://localhost:8080/"
        },
        "id": "Kw79IxjmbPIa",
        "outputId": "95640897-1e1d-4e63-eff5-78602b8c8901"
      },
      "outputs": [
        {
          "output_type": "stream",
          "name": "stdout",
          "text": [
            "\u001b[33mWARNING: Running pip as the 'root' user can result in broken permissions and conflicting behaviour with the system package manager. It is recommended to use a virtual environment instead: https://pip.pypa.io/warnings/venv\u001b[0m\u001b[33m\n",
            "\u001b[0m✨🍰✨ Everything looks OK!\n"
          ]
        }
      ],
      "source": [
        "!pip install -q condacolab\n",
        "import condacolab\n",
        "condacolab.install()"
      ]
    },
    {
      "cell_type": "markdown",
      "source": [
        "## 2. Set conda virtual environment"
      ],
      "metadata": {
        "id": "3Fsr1_aikA43"
      }
    },
    {
      "cell_type": "markdown",
      "source": [
        "### step1"
      ],
      "metadata": {
        "id": "HK-a3olrlAyU"
      }
    },
    {
      "cell_type": "code",
      "source": [
        "!conda create -n LTSF_Linear python=3.6.9"
      ],
      "metadata": {
        "colab": {
          "base_uri": "https://localhost:8080/"
        },
        "id": "7K0QvLoTe8Gq",
        "outputId": "4a16efdd-b259-445c-dd58-6987158a97bc"
      },
      "execution_count": 6,
      "outputs": [
        {
          "output_type": "stream",
          "name": "stdout",
          "text": [
            "Collecting package metadata (current_repodata.json): - \b\b\\ \b\b| \b\b/ \b\b- \b\b\\ \b\b| \b\b/ \b\b- \b\b\\ \b\b| \b\b/ \b\b- \b\b\\ \b\b| \b\b/ \b\b- \b\bdone\n",
            "Solving environment: | \b\bfailed with repodata from current_repodata.json, will retry with next repodata source.\n",
            "Collecting package metadata (repodata.json): - \b\b\\ \b\b| \b\b/ \b\b- \b\b\\ \b\b| \b\b/ \b\b- \b\b\\ \b\b| \b\b/ \b\b- \b\b\\ \b\b| \b\b/ \b\b- \b\b\\ \b\b| \b\b/ \b\b- \b\b\\ \b\b| \b\b/ \b\b- \b\b\\ \b\b| \b\b/ \b\b- \b\b\\ \b\b| \b\b/ \b\b- \b\b\\ \b\b| \b\b/ \b\b- \b\b\\ \b\b| \b\b/ \b\b- \b\b\\ \b\b| \b\b/ \b\b- \b\b\\ \b\b| \b\b/ \b\b- \b\b\\ \b\b| \b\b/ \b\b- \b\b\\ \b\b| \b\bdone\n",
            "Solving environment: - \b\b\\ \b\b| \b\b/ \b\b- \b\b\\ \b\b| \b\b/ \b\b- \b\b\\ \b\b| \b\b/ \b\b- \b\b\\ \b\b| \b\b/ \b\b- \b\b\\ \b\b| \b\b/ \b\b- \b\b\\ \b\b| \b\b/ \b\b- \b\b\\ \b\b| \b\b/ \b\b- \b\b\\ \b\b| \b\b/ \b\b- \b\b\\ \b\b| \b\b/ \b\b- \b\b\\ \b\b| \b\b/ \b\b- \b\b\\ \b\b| \b\b/ \b\b- \b\b\\ \b\b| \b\b/ \b\b- \b\b\\ \b\b| \b\b/ \b\b- \b\b\\ \b\b| \b\b/ \b\b- \b\b\\ \b\b| \b\b/ \b\b- \b\b\\ \b\b| \b\b/ \b\b- \b\b\\ \b\b| \b\b/ \b\b- \b\b\\ \b\b| \b\b/ \b\b- \b\b\\ \b\b| \b\b/ \b\b- \b\b\\ \b\b| \b\bdone\n",
            "\n",
            "\n",
            "==> WARNING: A newer version of conda exists. <==\n",
            "  current version: 22.9.0\n",
            "  latest version: 22.11.1\n",
            "\n",
            "Please update conda by running\n",
            "\n",
            "    $ conda update -n base -c conda-forge conda\n",
            "\n",
            "\n",
            "\n",
            "## Package Plan ##\n",
            "\n",
            "  environment location: /usr/local/envs/LTSF_Linear\n",
            "\n",
            "  added / updated specs:\n",
            "    - python=3.6.9\n",
            "\n",
            "\n",
            "The following NEW packages will be INSTALLED:\n",
            "\n",
            "  _libgcc_mutex      conda-forge/linux-64::_libgcc_mutex-0.1-conda_forge None\n",
            "  _openmp_mutex      conda-forge/linux-64::_openmp_mutex-4.5-2_gnu None\n",
            "  ca-certificates    conda-forge/linux-64::ca-certificates-2022.12.7-ha878542_0 None\n",
            "  ld_impl_linux-64   conda-forge/linux-64::ld_impl_linux-64-2.39-hcc3a1bd_1 None\n",
            "  libffi             conda-forge/linux-64::libffi-3.2.1-he1b5a44_1007 None\n",
            "  libgcc-ng          conda-forge/linux-64::libgcc-ng-12.2.0-h65d4601_19 None\n",
            "  libgomp            conda-forge/linux-64::libgomp-12.2.0-h65d4601_19 None\n",
            "  libsqlite          conda-forge/linux-64::libsqlite-3.40.0-h753d276_0 None\n",
            "  libstdcxx-ng       conda-forge/linux-64::libstdcxx-ng-12.2.0-h46fd767_19 None\n",
            "  libzlib            conda-forge/linux-64::libzlib-1.2.13-h166bdaf_4 None\n",
            "  ncurses            conda-forge/linux-64::ncurses-6.3-h27087fc_1 None\n",
            "  openssl            conda-forge/linux-64::openssl-1.1.1s-h0b41bf4_1 None\n",
            "  pip                conda-forge/noarch::pip-21.3.1-pyhd8ed1ab_0 None\n",
            "  python             conda-forge/linux-64::python-3.6.9-h9d8adfe_0_cpython None\n",
            "  python_abi         conda-forge/linux-64::python_abi-3.6-2_cp36m None\n",
            "  readline           conda-forge/linux-64::readline-8.1.2-h0f457ee_0 None\n",
            "  setuptools         conda-forge/linux-64::setuptools-58.0.4-py36h5fab9bb_2 None\n",
            "  sqlite             conda-forge/linux-64::sqlite-3.40.0-h4ff8645_0 None\n",
            "  tk                 conda-forge/linux-64::tk-8.6.12-h27826a3_0 None\n",
            "  wheel              conda-forge/noarch::wheel-0.37.1-pyhd8ed1ab_0 None\n",
            "  xz                 conda-forge/linux-64::xz-5.2.6-h166bdaf_0 None\n",
            "  zlib               conda-forge/linux-64::zlib-1.2.13-h166bdaf_4 None\n",
            "\n",
            "\n",
            "Preparing transaction: - \b\b\\ \b\b| \b\b/ \b\b- \b\bdone\n",
            "Verifying transaction: | \b\b/ \b\b- \b\b\\ \b\b| \b\b/ \b\b- \b\b\\ \b\b| \b\b/ \b\b- \b\b\\ \b\b| \b\b/ \b\b- \b\b\\ \b\b| \b\b/ \b\b- \b\b\\ \b\b| \b\b/ \b\b- \b\b\\ \b\b| \b\bdone\n",
            "Executing transaction: - \b\b\\ \b\b| \b\b/ \b\b- \b\b\\ \b\b| \b\b/ \b\b- \b\b\\ \b\b| \b\b/ \b\b- \b\b\\ \b\b| \b\b/ \b\b- \b\b\\ \b\b| \b\b/ \b\b- \b\b\\ \b\b| \b\b/ \b\b- \b\b\\ \b\b| \b\b/ \b\b- \b\b\\ \b\b| \b\b/ \b\b- \b\b\\ \b\b| \b\b/ \b\b- \b\b\\ \b\b| \b\b/ \b\b- \b\b\\ \b\b| \b\b/ \b\b- \b\b\\ \b\bdone\n",
            "#\n",
            "# To activate this environment, use\n",
            "#\n",
            "#     $ conda activate LTSF_Linear\n",
            "#\n",
            "# To deactivate an active environment, use\n",
            "#\n",
            "#     $ conda deactivate\n",
            "\n",
            "Retrieving notices: ...working... done\n"
          ]
        }
      ]
    },
    {
      "cell_type": "markdown",
      "source": [
        "### step2"
      ],
      "metadata": {
        "id": "jNJL7-yJlGUn"
      }
    },
    {
      "cell_type": "code",
      "source": [
        "!conda activate LTSF_Linear"
      ],
      "metadata": {
        "colab": {
          "base_uri": "https://localhost:8080/"
        },
        "id": "G2QrPRVTfa2S",
        "outputId": "17232d12-078c-44b6-9582-1b425abd55b1"
      },
      "execution_count": 7,
      "outputs": [
        {
          "output_type": "stream",
          "name": "stdout",
          "text": [
            "\n",
            "CommandNotFoundError: Your shell has not been properly configured to use 'conda activate'.\n",
            "To initialize your shell, run\n",
            "\n",
            "    $ conda init <SHELL_NAME>\n",
            "\n",
            "Currently supported shells are:\n",
            "  - bash\n",
            "  - fish\n",
            "  - tcsh\n",
            "  - xonsh\n",
            "  - zsh\n",
            "  - powershell\n",
            "\n",
            "See 'conda init --help' for more information and options.\n",
            "\n",
            "IMPORTANT: You may need to close and restart your shell after running 'conda init'.\n",
            "\n",
            "\n"
          ]
        }
      ]
    },
    {
      "cell_type": "code",
      "source": [
        "!conda init"
      ],
      "metadata": {
        "colab": {
          "base_uri": "https://localhost:8080/"
        },
        "id": "8QbwFiXpgWTD",
        "outputId": "34aff695-81da-4734-e9eb-a1c8698ca509"
      },
      "execution_count": 8,
      "outputs": [
        {
          "output_type": "stream",
          "name": "stdout",
          "text": [
            "no change     /usr/local/condabin/conda\n",
            "no change     /usr/local/bin/conda\n",
            "no change     /usr/local/bin/conda-env\n",
            "no change     /usr/local/bin/activate\n",
            "no change     /usr/local/bin/deactivate\n",
            "no change     /usr/local/etc/profile.d/conda.sh\n",
            "no change     /usr/local/etc/fish/conf.d/conda.fish\n",
            "no change     /usr/local/shell/condabin/Conda.psm1\n",
            "no change     /usr/local/shell/condabin/conda-hook.ps1\n",
            "no change     /usr/local/lib/python3.8/site-packages/xontrib/conda.xsh\n",
            "no change     /usr/local/etc/profile.d/conda.csh\n",
            "no change     /root/.bashrc\n",
            "No action taken.\n"
          ]
        }
      ]
    },
    {
      "cell_type": "markdown",
      "source": [
        "# step3"
      ],
      "metadata": {
        "id": "MKxQuTFflJxR"
      }
    },
    {
      "cell_type": "code",
      "source": [
        "from google.colab import drive\n",
        "drive.mount('/content/drive')"
      ],
      "metadata": {
        "colab": {
          "base_uri": "https://localhost:8080/"
        },
        "id": "kUasF4xKhbiG",
        "outputId": "be3a520f-7d64-42ae-b7e2-173c67c1821c"
      },
      "execution_count": 9,
      "outputs": [
        {
          "output_type": "stream",
          "name": "stdout",
          "text": [
            "Drive already mounted at /content/drive; to attempt to forcibly remount, call drive.mount(\"/content/drive\", force_remount=True).\n"
          ]
        }
      ]
    },
    {
      "cell_type": "code",
      "source": [
        "!pip install -r /content/drive/MyDrive/DLinear/requirements.txt # location of requirements.txt"
      ],
      "metadata": {
        "colab": {
          "base_uri": "https://localhost:8080/"
        },
        "id": "r91yD2hvgxFd",
        "outputId": "52e5fc39-322e-48b1-ad8a-c875d241efdb"
      },
      "execution_count": 10,
      "outputs": [
        {
          "output_type": "stream",
          "name": "stdout",
          "text": [
            "Looking in indexes: https://pypi.org/simple, https://us-python.pkg.dev/colab-wheels/public/simple/\n",
            "Requirement already satisfied: numpy in /usr/local/lib/python3.8/site-packages (from -r /content/drive/MyDrive/LTSF-Linear/requirements.txt (line 1)) (1.24.1)\n",
            "Requirement already satisfied: matplotlib in /usr/local/lib/python3.8/site-packages (from -r /content/drive/MyDrive/LTSF-Linear/requirements.txt (line 2)) (3.6.3)\n",
            "Requirement already satisfied: pandas in /usr/local/lib/python3.8/site-packages (from -r /content/drive/MyDrive/LTSF-Linear/requirements.txt (line 3)) (1.5.3)\n",
            "Requirement already satisfied: scikit-learn in /usr/local/lib/python3.8/site-packages (from -r /content/drive/MyDrive/LTSF-Linear/requirements.txt (line 4)) (1.2.0)\n",
            "Requirement already satisfied: torch==1.9.0 in /usr/local/lib/python3.8/site-packages (from -r /content/drive/MyDrive/LTSF-Linear/requirements.txt (line 5)) (1.9.0)\n",
            "Requirement already satisfied: typing-extensions in /usr/local/lib/python3.8/site-packages (from torch==1.9.0->-r /content/drive/MyDrive/LTSF-Linear/requirements.txt (line 5)) (4.4.0)\n",
            "Requirement already satisfied: packaging>=20.0 in /usr/local/lib/python3.8/site-packages (from matplotlib->-r /content/drive/MyDrive/LTSF-Linear/requirements.txt (line 2)) (23.0)\n",
            "Requirement already satisfied: pillow>=6.2.0 in /usr/local/lib/python3.8/site-packages (from matplotlib->-r /content/drive/MyDrive/LTSF-Linear/requirements.txt (line 2)) (9.4.0)\n",
            "Requirement already satisfied: pyparsing>=2.2.1 in /usr/local/lib/python3.8/site-packages (from matplotlib->-r /content/drive/MyDrive/LTSF-Linear/requirements.txt (line 2)) (3.0.9)\n",
            "Requirement already satisfied: contourpy>=1.0.1 in /usr/local/lib/python3.8/site-packages (from matplotlib->-r /content/drive/MyDrive/LTSF-Linear/requirements.txt (line 2)) (1.0.7)\n",
            "Requirement already satisfied: kiwisolver>=1.0.1 in /usr/local/lib/python3.8/site-packages (from matplotlib->-r /content/drive/MyDrive/LTSF-Linear/requirements.txt (line 2)) (1.4.4)\n",
            "Requirement already satisfied: python-dateutil>=2.7 in /usr/local/lib/python3.8/site-packages (from matplotlib->-r /content/drive/MyDrive/LTSF-Linear/requirements.txt (line 2)) (2.8.2)\n",
            "Requirement already satisfied: cycler>=0.10 in /usr/local/lib/python3.8/site-packages (from matplotlib->-r /content/drive/MyDrive/LTSF-Linear/requirements.txt (line 2)) (0.11.0)\n",
            "Requirement already satisfied: fonttools>=4.22.0 in /usr/local/lib/python3.8/site-packages (from matplotlib->-r /content/drive/MyDrive/LTSF-Linear/requirements.txt (line 2)) (4.38.0)\n",
            "Requirement already satisfied: pytz>=2020.1 in /usr/local/lib/python3.8/site-packages (from pandas->-r /content/drive/MyDrive/LTSF-Linear/requirements.txt (line 3)) (2022.7.1)\n",
            "Requirement already satisfied: scipy>=1.3.2 in /usr/local/lib/python3.8/site-packages (from scikit-learn->-r /content/drive/MyDrive/LTSF-Linear/requirements.txt (line 4)) (1.10.0)\n",
            "Requirement already satisfied: joblib>=1.1.1 in /usr/local/lib/python3.8/site-packages (from scikit-learn->-r /content/drive/MyDrive/LTSF-Linear/requirements.txt (line 4)) (1.2.0)\n",
            "Requirement already satisfied: threadpoolctl>=2.0.0 in /usr/local/lib/python3.8/site-packages (from scikit-learn->-r /content/drive/MyDrive/LTSF-Linear/requirements.txt (line 4)) (3.1.0)\n",
            "Requirement already satisfied: six>=1.5 in /usr/local/lib/python3.8/site-packages (from python-dateutil>=2.7->matplotlib->-r /content/drive/MyDrive/LTSF-Linear/requirements.txt (line 2)) (1.16.0)\n",
            "\u001b[33mWARNING: Running pip as the 'root' user can result in broken permissions and conflicting behaviour with the system package manager. It is recommended to use a virtual environment instead: https://pip.pypa.io/warnings/venv\u001b[0m\u001b[33m\n",
            "\u001b[0m"
          ]
        }
      ]
    },
    {
      "cell_type": "markdown",
      "source": [
        "**restart & run all**"
      ],
      "metadata": {
        "id": "mzOKMjkxjUwS"
      }
    }
  ]
}